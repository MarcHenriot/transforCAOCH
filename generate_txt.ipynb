{
  "cells": [
    {
      "cell_type": "markdown",
      "metadata": {
        "id": "view-in-github",
        "colab_type": "text"
      },
      "source": [
        "<a href=\"https://colab.research.google.com/github/PeopleOfPlay/transforCAOCH/blob/main/generate_txt.ipynb\" target=\"_parent\"><img src=\"https://colab.research.google.com/assets/colab-badge.svg\" alt=\"Open In Colab\"/></a>"
      ]
    },
    {
      "cell_type": "code",
      "source": [
        "title = \"Le Dernier samouraï\"\n",
        "meta = \"Historique, Guerre\"\n",
        "director = \"Edward Zwick\"\n",
        "cast = \"Tom Cruise, Billy Connolly, Tony Goldwyn\""
      ],
      "metadata": {
        "id": "LKgDnYY8c2sG"
      },
      "execution_count": 20,
      "outputs": []
    },
    {
      "cell_type": "code",
      "source": [
        "!pip install transformers"
      ],
      "metadata": {
        "colab": {
          "base_uri": "https://localhost:8080/"
        },
        "id": "3tjRdl4TboWe",
        "outputId": "b59c802d-c171-4e7e-b84d-b4342610db13"
      },
      "execution_count": 21,
      "outputs": [
        {
          "output_type": "stream",
          "name": "stdout",
          "text": [
            "Requirement already satisfied: transformers in /usr/local/lib/python3.7/dist-packages (4.19.2)\n",
            "Requirement already satisfied: tokenizers!=0.11.3,<0.13,>=0.11.1 in /usr/local/lib/python3.7/dist-packages (from transformers) (0.12.1)\n",
            "Requirement already satisfied: importlib-metadata in /usr/local/lib/python3.7/dist-packages (from transformers) (4.11.3)\n",
            "Requirement already satisfied: regex!=2019.12.17 in /usr/local/lib/python3.7/dist-packages (from transformers) (2019.12.20)\n",
            "Requirement already satisfied: huggingface-hub<1.0,>=0.1.0 in /usr/local/lib/python3.7/dist-packages (from transformers) (0.6.0)\n",
            "Requirement already satisfied: requests in /usr/local/lib/python3.7/dist-packages (from transformers) (2.23.0)\n",
            "Requirement already satisfied: tqdm>=4.27 in /usr/local/lib/python3.7/dist-packages (from transformers) (4.64.0)\n",
            "Requirement already satisfied: pyyaml>=5.1 in /usr/local/lib/python3.7/dist-packages (from transformers) (6.0)\n",
            "Requirement already satisfied: filelock in /usr/local/lib/python3.7/dist-packages (from transformers) (3.7.0)\n",
            "Requirement already satisfied: packaging>=20.0 in /usr/local/lib/python3.7/dist-packages (from transformers) (21.3)\n",
            "Requirement already satisfied: numpy>=1.17 in /usr/local/lib/python3.7/dist-packages (from transformers) (1.21.6)\n",
            "Requirement already satisfied: typing-extensions>=3.7.4.3 in /usr/local/lib/python3.7/dist-packages (from huggingface-hub<1.0,>=0.1.0->transformers) (4.2.0)\n",
            "Requirement already satisfied: pyparsing!=3.0.5,>=2.0.2 in /usr/local/lib/python3.7/dist-packages (from packaging>=20.0->transformers) (3.0.9)\n",
            "Requirement already satisfied: zipp>=0.5 in /usr/local/lib/python3.7/dist-packages (from importlib-metadata->transformers) (3.8.0)\n",
            "Requirement already satisfied: idna<3,>=2.5 in /usr/local/lib/python3.7/dist-packages (from requests->transformers) (2.10)\n",
            "Requirement already satisfied: chardet<4,>=3.0.2 in /usr/local/lib/python3.7/dist-packages (from requests->transformers) (3.0.4)\n",
            "Requirement already satisfied: urllib3!=1.25.0,!=1.25.1,<1.26,>=1.21.1 in /usr/local/lib/python3.7/dist-packages (from requests->transformers) (1.24.3)\n",
            "Requirement already satisfied: certifi>=2017.4.17 in /usr/local/lib/python3.7/dist-packages (from requests->transformers) (2021.10.8)\n"
          ]
        }
      ]
    },
    {
      "cell_type": "code",
      "execution_count": 22,
      "metadata": {
        "id": "SzeBSA_UlsSd"
      },
      "outputs": [],
      "source": [
        "import torch\n",
        "import gdown\n",
        "from transformers import GPT2LMHeadModel,  GPT2Tokenizer, GPT2Config, GPT2LMHeadModel"
      ]
    },
    {
      "cell_type": "code",
      "source": [
        "url = \"https://drive.google.com/drive/folders/1rlRM4geoYCGHnbGv5IOADg7FB4rtK1Vq?usp=sharing\"\n",
        "gdown.download_folder(url, quiet=True, use_cookies=False)"
      ],
      "metadata": {
        "colab": {
          "base_uri": "https://localhost:8080/"
        },
        "id": "zLtYZ8nW6l0a",
        "outputId": "bd27d59f-8be5-4b38-d266-a9b316727cb9"
      },
      "execution_count": 23,
      "outputs": [
        {
          "output_type": "execute_result",
          "data": {
            "text/plain": [
              "['/content/model_save_v2/added_tokens.json',\n",
              " '/content/model_save_v2/config.json',\n",
              " '/content/model_save_v2/merges.txt',\n",
              " '/content/model_save_v2/pytorch_model.bin',\n",
              " '/content/model_save_v2/special_tokens_map.json',\n",
              " '/content/model_save_v2/tokenizer_config.json',\n",
              " '/content/model_save_v2/vocab.json']"
            ]
          },
          "metadata": {},
          "execution_count": 23
        }
      ]
    },
    {
      "cell_type": "code",
      "source": [
        "path = \"model_save_v2\"\n",
        "device = torch.device(\"cuda\") if torch.cuda.is_available() else torch.device(\"cpu\")"
      ],
      "metadata": {
        "id": "c-d9NhNLmSZn"
      },
      "execution_count": 24,
      "outputs": []
    },
    {
      "cell_type": "code",
      "source": [
        "tokenizer = GPT2Tokenizer.from_pretrained(path, bos_token='<|startoftext|>', eos_token='<|endoftext|>', pad_token='<|pad|>', local_files_only=True)\n",
        "configuration = GPT2Config.from_pretrained(path, output_hidden_states=False, local_files_only=True)\n",
        "model = GPT2LMHeadModel.from_pretrained(path, config=configuration, local_files_only=True)\n",
        "model.resize_token_embeddings(len(tokenizer))"
      ],
      "metadata": {
        "colab": {
          "base_uri": "https://localhost:8080/"
        },
        "id": "ncf84H2Kl9Z4",
        "outputId": "a0ba9d78-0416-4d40-8f09-8cfadb4191f4"
      },
      "execution_count": 25,
      "outputs": [
        {
          "output_type": "execute_result",
          "data": {
            "text/plain": [
              "Embedding(50259, 768)"
            ]
          },
          "metadata": {},
          "execution_count": 25
        }
      ]
    },
    {
      "cell_type": "code",
      "source": [
        "model.to(device)\n",
        "model.eval()\n",
        "prompt = f\"<|startoftext|>{title} {meta} {director} {cast} ::\"\n",
        "\n",
        "generated = torch.tensor(tokenizer.encode(prompt)).unsqueeze(0)\n",
        "\n",
        "with torch.no_grad():\n",
        "    sample_outputs = model.generate(\n",
        "        generated.to(device), \n",
        "        do_sample=True,   \n",
        "        top_k=50, \n",
        "        max_length=500,\n",
        "        top_p=0.95, \n",
        "        num_return_sequences=5\n",
        "    )"
      ],
      "metadata": {
        "colab": {
          "base_uri": "https://localhost:8080/"
        },
        "id": "mtuOJFOCl3wf",
        "outputId": "e143361c-4260-4626-b516-25fa7c754cba"
      },
      "execution_count": 26,
      "outputs": [
        {
          "output_type": "stream",
          "name": "stderr",
          "text": [
            "Setting `pad_token_id` to `eos_token_id`:50256 for open-end generation.\n"
          ]
        }
      ]
    },
    {
      "cell_type": "code",
      "source": [
        "for i, sample_output in enumerate(sample_outputs):\n",
        "    comment = tokenizer.decode(sample_output, skip_special_tokens=True).split('::')[1]\n",
        "    print(f\"{i}: {comment}\\n\\n\")"
      ],
      "metadata": {
        "id": "f13hWvAXjkYT",
        "outputId": "a4549d07-a24b-472c-ea0b-3af86819032b",
        "colab": {
          "base_uri": "https://localhost:8080/"
        }
      },
      "execution_count": 27,
      "outputs": [
        {
          "output_type": "stream",
          "name": "stdout",
          "text": [
            "0:  Le Dernier samouraï : Un film de guerre des plus percutants et originaux qui déjà bien la maitrise du film : visuellement soignée, travaillé et surtout bien mené. Ce film nous fait voyages dans l’action et ça c’est plutôt une véritable expérience grâce a ces répliques qui rend le film moins bien mise en avant car j’adore les gros répliques de guerre. Et la réalisation est honorable car on a le droit a de très beaux décors, costumes et paysages sublimes. Et le film est assez malsain (la démonstration) car ce film nous réserve quand même une bonne ambiance d’émotion et de sensation : c’est très bien. Ensuite, le scénario est assez spécial et nous plonge dans un camp de guerre des plus fort de l’amitié : dans cette guerre, il va rentrer dans les camps dans un camp de guerre par une femme qui veut s’occupé de ses autres… Et donc, le mari des deux personnages est une sorte de société mais elle va devoir tué pour qu’elle soit plus humain qui va crescendo dans l’avant. Donc voila, scénario maitrisé avec un ton, surtout le combat, un point essentiel mais c’est cohérent aussi. On a du mal a suive les personnages du film, d’ailleurs, ils sont bien exécutés mais ils sont mignons : que ça soit dans les grands camps dans un camp de guerre. Et quel plaisir de retrouvé un Tom Cruise dans le\n",
            "\n",
            "\n",
            "1:  Le Dernier samouraï : Vraiment excellent film, chapeau l’artiste et poétique, ce film est une pure merveille. De part sa réalisation et sa mise en scène magnifique qui met en avant par les somptueux panorama de l’angoisse de l’époque ainsi que de son ambiance unique. Ce film est pour moi un énorme coup de cœur. De part sa réalisation qui est juste magnifique et a l’ancienne, c’est un peu du pur art, on dirait que c’est des plans de caméra très classe et posé : la réalisation du Samouraï est juste magistrale et renforcé avec une bonne mise en scène qui met l’accent sur l’époque avec des flashs backs majestueux et épique (quand Clint Eastwood joue avec la peur avec la peur, j’aurais vu la voix dans le film ainsi que la peur). Vraiment excellent film, de part sa réalisation et son mise en scène qui met bien en valeur les plans et l’ambiance du film. Vraiment on est absorbé et émerveillé. Déjà grâce aussi aux musiques signé Hans Zimmer qui savent nous emportés, elle colle parfaitement au film avec le rythme et la maitrise du film aussi. Ainsi son coté épopée/mise en scène virtuose, même lorsque les magnifiques musiques savent nous emportés et met l’accent sur l’ambiance du film. Un coup de cœur que je ne connaisse pas ce film. Et je peux que vous le conseillé, c’est un classique du genre indémodable.\n",
            "\n",
            "\n",
            "2:  Le Dernier samouraï : Un film de guerre captivant et prenant du début jusqu'à la fin, en un mot : spectaculaire que ce soit les victimes, la guerre, la réalité… Mais, je peux dire que c’est une histoire vraie et très travaillé, en parti grâce a l’histoire des guerres. Je préféré largement celui la mais le film maitrise parfaitement l’ambiance et la tension de tous les instants et donc son coté historique est basé sur des faits réels. Et la, on a le droit à une grande histoire d’amour qui vient devenir devenu cette guerre et devenir rivalité. Et vraiment, on va suivre la guerre sur un médecin qui va découvrir sa fille, son mari aussi, ses trahisons, son éloge et sa guerre : mais il va devoir changer car des le début, sa ma pas dérangé dans un village de la guerre ou il n’est pas bien et le médecin est éblouissant. Donc voila, histoire vrai et travaillé et avec un coté historique qui rend le film exceptionnelle. Et c’est dommage, car l’histoire d’amour avec des sacrés moments de guerre est assez intéressant et prenante. Par contre, il faut le dire que les personnages sont travaillé et attachant, on ne décroche pas une seul seconde ou ils sont un peu tous exploités et surtout on perd l’air en montré leur personnalité. Après, la réalisation est juste magnifique, les plans de caméra sont som\n",
            "\n",
            "\n",
            "3:  Le Dernier samouraï : Encore une œuvre de guerre du cinéma assez différent de nos jours car au début, on a affaire a un film historique de façon authentique, qui sait être un poil aborder de temps que c’était le précédant et il a fait son intérêt. Mais franchement, on ne s’ennuie pas une seul seconde et on a le droit à une histoire original et prenant du début jusqu'à la fin. Car, c’est une guerre Amérique qui tue et ils vont essayer de faire tué l’œuvre de sa terre, qui va aller dans une campagne, avec des loups d’ombres, des mines de la peau… On a le droit a un hors du commun, des soldats vraiment préjugés et des larmes qui ont l’amour ou ils vont découvrir ça. Mais ce qui rend le film vraiment intéressant et captivant car c’est qu’il y a une histoire de Amérique en plus de 10 ans, le film ce montre et commencer à tous ces époque et ce qu’il y a de plus développer… Et d’ailleurs, la réalisation et la mise en scène signée Edward Zwick est correcte mais en béton, c’est surtout lors des moments de stress, ou l’action et le film s’accords avec l’époque. Et pour ce qui est de la réalisation, elle est juste excellente, avec une bonne mise en scène et des effets spéciaux impeccables mais pas très bonnes mais la, elle aura pu être plus rechercher, le coté western moderne n�\n",
            "\n",
            "\n",
            "4:  Le Dernier samouraï : Une histoire de guerre fort émouvante avec un coté historique de 1H30 que j’ai eu plutôt vu. La, je m’attendais a un très bon film de guerre : histoire de drogué et action, de guerre sans concession et de sang. Et ça mise en scène soignée mais efficace. Vraiment, je ne comprends pas tout le monde que le premier mais je vais vous laisse découvrir le monde réfléchir mais c’est le seul point qui ma agréablement surprit. Car, ce film nous montre de façon amateur avec un sujet très bien fait. Le film part dans un délire intense, captivant et intense. Grâce a une réalisation émouvant et bien foutu. Ensuite, le scénario reste crédible et soigné et montre tous son expérience. Le réalisateur fait l’émotion du film. C’est parce que, on suit un jeune homme qui apprend a les droguées avec ses droguées et mourir pour se faire remplit d’évasion dans sa ville. Mais c’est vraiment excellent voir ce jeune homme qui a vraiment une conscience car sa va s’occuper de son enfance et ses habitude… Donc voila, scénario riche en rebondissement, surtout vers la fin et la fin. Et que dire de la mise en scène : digne d’un des meilleurs film de guerre aventurier qui ce rapproche. Mais au moins, le scénario reste classique malgré le film au début, la guerre est présent et soigné et bien tra\n",
            "\n",
            "\n"
          ]
        }
      ]
    },
    {
      "cell_type": "code",
      "source": [
        ""
      ],
      "metadata": {
        "id": "1P2MMYDnmLLR"
      },
      "execution_count": null,
      "outputs": []
    }
  ],
  "metadata": {
    "language_info": {
      "name": "python"
    },
    "orig_nbformat": 4,
    "colab": {
      "name": "generate_txt.ipynb",
      "provenance": [],
      "include_colab_link": true
    },
    "accelerator": "GPU",
    "kernelspec": {
      "name": "python3",
      "display_name": "Python 3"
    }
  },
  "nbformat": 4,
  "nbformat_minor": 0
}